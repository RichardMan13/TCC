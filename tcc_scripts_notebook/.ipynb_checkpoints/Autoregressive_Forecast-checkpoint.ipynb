{
 "cells": [
  {
   "cell_type": "code",
   "execution_count": 1,
   "metadata": {},
   "outputs": [],
   "source": [
    "import pandas as pd\n",
    "import numpy as np\n",
    "\n",
    "from scipy.stats import pearsonr\n",
    "from sklearn.metrics import r2_score, mean_absolute_error, mean_squared_error\n",
    "\n",
    "from statsmodels.tsa.holtwinters import SimpleExpSmoothing\n",
    "\n",
    "import datetime as dt\n",
    "import matplotlib.pyplot as plt\n",
    "%matplotlib inline \n",
    "\n",
    "import warnings\n",
    "warnings.simplefilter('ignore')"
   ]
  },
  {
   "cell_type": "code",
   "execution_count": 2,
   "metadata": {},
   "outputs": [],
   "source": [
    "pd.set_option(\"display.max_columns\", 50)\n",
    "pd.set_option(\"display.max_rows\", 100)"
   ]
  },
  {
   "cell_type": "markdown",
   "metadata": {},
   "source": [
    "#### read csv files from kaggle "
   ]
  },
  {
   "cell_type": "code",
   "execution_count": 3,
   "metadata": {},
   "outputs": [],
   "source": [
    "df_gemini_price_d = pd.read_csv('datasets/kaggle/BTCUSD_day.csv')\n",
    "df_gemini_price_1h = pd.read_csv('datasets/kaggle/BTCUSD_1hr.csv')"
   ]
  },
  {
   "cell_type": "markdown",
   "metadata": {},
   "source": [
    "#### convert columns to datetime"
   ]
  },
  {
   "cell_type": "code",
   "execution_count": 4,
   "metadata": {},
   "outputs": [],
   "source": [
    "df_gemini_price_d['Date'] = pd.to_datetime(df_gemini_price_d['Date'])\n",
    "df_gemini_price_1h['Date'] = pd.to_datetime(df_gemini_price_1h['Date'])"
   ]
  },
  {
   "cell_type": "markdown",
   "metadata": {},
   "source": [
    "#### verify the range of datetime in dataframes"
   ]
  },
  {
   "cell_type": "code",
   "execution_count": 5,
   "metadata": {},
   "outputs": [
    {
     "name": "stdout",
     "output_type": "stream",
     "text": [
      "------------ df_gemini_price_d ------------\n",
      "2020-04-09 00:00:00\n",
      "2015-10-08 00:00:00\n",
      "------------ df_gemini_price_1h ------------\n",
      "2020-04-09 00:00:00\n",
      "2015-10-08 13:00:00\n"
     ]
    }
   ],
   "source": [
    "print('------------', 'df_gemini_price_d', '------------')\n",
    "print(df_gemini_price_d['Date'].max())\n",
    "print(df_gemini_price_d['Date'].min())\n",
    "print('------------', 'df_gemini_price_1h', '------------')\n",
    "print(df_gemini_price_1h['Date'].max())\n",
    "print(df_gemini_price_1h['Date'].min())"
   ]
  },
  {
   "cell_type": "markdown",
   "metadata": {},
   "source": [
    "#### verify the numbers of lines in dataframes"
   ]
  },
  {
   "cell_type": "code",
   "execution_count": 6,
   "metadata": {},
   "outputs": [
    {
     "name": "stdout",
     "output_type": "stream",
     "text": [
      "------------ df_coinmarket_price_d ------------\n",
      "1646\n",
      "------------ df_coinmarket_price_1h ------------\n",
      "39468\n"
     ]
    }
   ],
   "source": [
    "print('------------', 'df_coinmarket_price_d', '------------')\n",
    "print(df_gemini_price_d.shape[0])\n",
    "print('------------', 'df_coinmarket_price_1h', '------------')\n",
    "print(df_gemini_price_1h.shape[0])"
   ]
  },
  {
   "cell_type": "code",
   "execution_count": 12,
   "metadata": {},
   "outputs": [],
   "source": [
    "class ExponentialSmoothingForecast(object):\n",
    "    \n",
    "    def __init__(self, df, percentage_train_size):\n",
    "        \n",
    "        self.df = df\n",
    "        self.percentage_train_size = percentage_train_size\n",
    "                \n",
    "    def perform(self):\n",
    "        \n",
    "        best_params, train_size, y_train_predict = self.grid_search_model()\n",
    "        \n",
    "        array_pred = np.array([])\n",
    "        \n",
    "        date_test = self.df[train_size:].index\n",
    "        \n",
    "        for current_datetime in date_test:\n",
    "\n",
    "            pred = self.prediction(best_params = best_params, current_datetime = current_datetime)\n",
    "            array_pred = np.append(array_pred, pred)\n",
    "#             print('current_datetime', current_datetime)\n",
    "#             print('pred', pred)\n",
    "        \n",
    "        \n",
    "        date_train = self.df[:train_size].index\n",
    "        y_train = self.df[:train_size]['Close'].values\n",
    "        \n",
    "        date_test = self.df[train_size:].index\n",
    "        y_test = self.df[train_size:]['Close'].values\n",
    "        \n",
    "        data_train = {\n",
    "          'date_train': date_train,\n",
    "          'y_train': y_train,\n",
    "          'y_train_predict': y_train_predict\n",
    "        }\n",
    "\n",
    "        data_test = {\n",
    "            'date_test': date_test,\n",
    "            'y_test': y_test,\n",
    "            'y_test_predict': array_pred\n",
    "        }\n",
    "\n",
    "        df_train = pd.DataFrame(data_train)\n",
    "        df_test = pd.DataFrame(data_test)\n",
    "\n",
    "        fig, ax = plt.subplots(figsize=(18, 10))\n",
    "        \n",
    "#         ax.plot(df_train['date_train'], df_train['y_train'], label = 'train', color=\"blue\")\n",
    "#         ax.plot(df_train['date_train'], df_train['y_train_predict'], '--', label = 'train predict', color=\"red\")\n",
    "\n",
    "        ax.plot(df_test['date_test'], df_test['y_test'], label = 'test', color=\"blue\")\n",
    "        ax.plot(df_test['date_test'], df_test['y_test_predict'], '--', label = 'test predict', color=\"red\")\n",
    "        \n",
    "        ax.legend()\n",
    "        plt.show()\n",
    "        mae, mape, mse, rmse, rmspe, r2, pearson = self.perform_metrics(df_test['y_test'],\n",
    "                                                                        df_test['y_test_predict'])\n",
    "        print('mae', mae,\n",
    "              'mape', mape,\n",
    "              'mse', mse,\n",
    "              'rmse', rmse,\n",
    "              'rmspe', rmspe,\n",
    "              'r2', r2,\n",
    "              'pearson', pearson)\n",
    "\n",
    "        \n",
    "        return df_train, df_test\n",
    "       \n",
    "    def prediction(self, best_params, current_datetime):\n",
    "        \n",
    "        alpha = best_params['alpha']\n",
    "\n",
    "        model = SimpleExpSmoothing(self.df[:current_datetime])\n",
    "        fit_model = model.fit(smoothing_level = alpha)\n",
    "                \n",
    "        pred = fit_model.predict( start = current_datetime, end = current_datetime)\n",
    "\n",
    "        return pred\n",
    "    \n",
    "    def grid_search_model(self):\n",
    "        \n",
    "        best_aic = np.inf\n",
    "        train_size = int(len(self.df) * self.percentage_train_size)\n",
    "        \n",
    "        model = SimpleExpSmoothing(self.df[:train_size])\n",
    "        list_alpha = [a/100 for a in range(0, 100, 10)]\n",
    "        \n",
    "        for alpha in list_alpha:\n",
    "                \n",
    "            fit_model = model.fit(smoothing_level = alpha)\n",
    "\n",
    "            if fit_model.aic < best_aic:\n",
    "                best_aic = fit_model.aic\n",
    "                best_fit = fit_model\n",
    "                best_params = {'alpha': alpha}\n",
    "        \n",
    "        print('AIC', best_aic, 'best_params', best_params)\n",
    "        \n",
    "        y_train_predict = best_fit.fittedvalues\n",
    "               \n",
    "        return best_params, train_size, y_train_predict\n",
    "    \n",
    "    def perform_metrics(self, y_truth, y_forecasted): \n",
    "\n",
    "        mae = round(mean_absolute_error(y_truth, y_forecasted) ,4)\n",
    "        mape = round(np.mean(np.abs((y_truth - y_forecasted) / y_truth)) * 100, 4)\n",
    "        mse = round(mean_squared_error(y_truth, y_forecasted), 4)\n",
    "        rmse = round(mse**(0.5), 4)\n",
    "        rmspe = round((np.sqrt(np.mean(np.square((y_truth - y_forecasted) / y_truth)))) * 100, 4)\n",
    "        r2 = round(r2_score(y_truth, y_forecasted), 4)\n",
    "        try:\n",
    "            corr, _ = pearsonr(y_truth, y_forecasted)\n",
    "            pearson = round(corr, 4)\n",
    "        except:\n",
    "            pearson = None\n",
    "\n",
    "        return mae, mape, mse, rmse, rmspe, r2, pearson\n",
    "    "
   ]
  },
  {
   "cell_type": "code",
   "execution_count": null,
   "metadata": {},
   "outputs": [
    {
     "name": "stdout",
     "output_type": "stream",
     "text": [
      "AIC 265223.8722569918 best_params {'alpha': 0.9}\n"
     ]
    }
   ],
   "source": [
    "### MAIN\n",
    "\n",
    "# df = df_gemini_price_d.copy()\n",
    "df = df_gemini_price_1h.copy()\n",
    "\n",
    "df = df.set_index('Date')\n",
    "df = df.sort_values(by = ['Date'])\n",
    "df = df.loc[:, ['Close']]\n",
    "\n",
    "df = df.asfreq('H') # D or H\n",
    "\n",
    "exponential_smoothing_forecast = ExponentialSmoothingForecast(df = df,\n",
    "                                             percentage_train_size = 0.80\n",
    "                                            )\n",
    "df_train, df_test = exponential_smoothing_forecast.perform()"
   ]
  },
  {
   "cell_type": "code",
   "execution_count": 14,
   "metadata": {},
   "outputs": [],
   "source": [
    "#ES 1d\n",
    "#alpha = 0.9\n",
    "#mae 255.0775 mape 2.9498 mse 158088.9172 rmse 397.604 rmspe 5.2742 r2 0.9311 pearson 0.9654"
   ]
  },
  {
   "cell_type": "code",
   "execution_count": null,
   "metadata": {},
   "outputs": [],
   "source": [
    "#ES 1h\n",
    "#AIC 265223.8722569918 best_params {'alpha': 0.9}\n"
   ]
  }
 ],
 "metadata": {
  "kernelspec": {
   "display_name": "Python 3",
   "language": "python",
   "name": "python3"
  },
  "language_info": {
   "codemirror_mode": {
    "name": "ipython",
    "version": 3
   },
   "file_extension": ".py",
   "mimetype": "text/x-python",
   "name": "python",
   "nbconvert_exporter": "python",
   "pygments_lexer": "ipython3",
   "version": "3.8.2"
  }
 },
 "nbformat": 4,
 "nbformat_minor": 4
}
